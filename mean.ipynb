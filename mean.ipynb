{
 "cells": [
  {
   "cell_type": "code",
   "execution_count": 5,
   "id": "1347aeec",
   "metadata": {},
   "outputs": [],
   "source": [
    "import numpy as np\n",
    "import pandas as pd\n",
    "import math\n",
    "from numba import jit"
   ]
  },
  {
   "cell_type": "code",
   "execution_count": 6,
   "id": "7c9008d1",
   "metadata": {},
   "outputs": [
    {
     "data": {
      "text/plain": [
       "array([0.22731521, 0.59162628, 0.21776349, ..., 0.73022621, 0.31880917,\n",
       "       0.44050632])"
      ]
     },
     "execution_count": 6,
     "metadata": {},
     "output_type": "execute_result"
    }
   ],
   "source": [
    "values = np.random.random(100000000)\n",
    "values"
   ]
  },
  {
   "cell_type": "code",
   "execution_count": 7,
   "id": "f4b4ac37",
   "metadata": {},
   "outputs": [],
   "source": [
    "xs = pd.Series(values)"
   ]
  },
  {
   "cell_type": "code",
   "execution_count": 8,
   "id": "d164575e",
   "metadata": {},
   "outputs": [
    {
     "name": "stdout",
     "output_type": "stream",
     "text": [
      "292 ms ± 776 µs per loop (mean ± std. dev. of 7 runs, 1 loop each)\n"
     ]
    }
   ],
   "source": [
    "%%timeit \n",
    "\n",
    "xs.mean()"
   ]
  },
  {
   "cell_type": "code",
   "execution_count": 9,
   "id": "3efda772",
   "metadata": {},
   "outputs": [
    {
     "name": "stdout",
     "output_type": "stream",
     "text": [
      "37.9 ms ± 661 µs per loop (mean ± std. dev. of 7 runs, 10 loops each)\n"
     ]
    }
   ],
   "source": [
    "%%timeit\n",
    "np.mean(values)"
   ]
  },
  {
   "cell_type": "code",
   "execution_count": 10,
   "id": "2670027c",
   "metadata": {},
   "outputs": [
    {
     "name": "stdout",
     "output_type": "stream",
     "text": [
      "38 ms ± 528 µs per loop (mean ± std. dev. of 7 runs, 10 loops each)\n"
     ]
    }
   ],
   "source": [
    "%%timeit\n",
    "values.sum()/len(values)"
   ]
  },
  {
   "cell_type": "code",
   "execution_count": 11,
   "id": "95113767",
   "metadata": {},
   "outputs": [],
   "source": [
    "@jit(nopython=True)\n",
    "def calc_mean(a):\n",
    "    return np.mean(values)"
   ]
  },
  {
   "cell_type": "code",
   "execution_count": 12,
   "id": "cfb9234d",
   "metadata": {},
   "outputs": [
    {
     "name": "stdout",
     "output_type": "stream",
     "text": [
      "91.4 ms ± 764 µs per loop (mean ± std. dev. of 7 runs, 1 loop each)\n"
     ]
    }
   ],
   "source": [
    "%%timeit\n",
    "calc_mean(values)"
   ]
  },
  {
   "cell_type": "code",
   "execution_count": 13,
   "id": "bba85854",
   "metadata": {},
   "outputs": [],
   "source": [
    "@jit(nopython=True)\n",
    "def calc_mean2(a):\n",
    "    total = 0\n",
    "    for i in range(values.shape[0]):\n",
    "        total += a[i]\n",
    "    return total / values.shape[0]"
   ]
  },
  {
   "cell_type": "code",
   "execution_count": 14,
   "id": "5d3e103b",
   "metadata": {},
   "outputs": [
    {
     "name": "stdout",
     "output_type": "stream",
     "text": [
      "91.6 ms ± 1.01 ms per loop (mean ± std. dev. of 7 runs, 10 loops each)\n"
     ]
    }
   ],
   "source": [
    "%%timeit\n",
    "calc_mean2(values)"
   ]
  },
  {
   "cell_type": "code",
   "execution_count": 15,
   "id": "cd3ef81f",
   "metadata": {},
   "outputs": [
    {
     "name": "stdout",
     "output_type": "stream",
     "text": [
      "93.7 ms ± 955 µs per loop (mean ± std. dev. of 7 runs, 10 loops each)\n"
     ]
    }
   ],
   "source": [
    "%%timeit\n",
    "calc_mean2(values)"
   ]
  },
  {
   "cell_type": "code",
   "execution_count": 16,
   "id": "7d5ef7e7",
   "metadata": {},
   "outputs": [],
   "source": [
    "@jit(parallel=True)\n",
    "def calc_mean3(a):\n",
    "    total = 0\n",
    "    for i in range(values.shape[0]):\n",
    "        total += a[i]\n",
    "    return total / values.shape[0]"
   ]
  },
  {
   "cell_type": "code",
   "execution_count": 17,
   "id": "3eb630fa",
   "metadata": {},
   "outputs": [
    {
     "name": "stderr",
     "output_type": "stream",
     "text": [
      "/home/mwongkee/miniconda3/envs/rapids-0.18/lib/python3.8/site-packages/numba/core/typed_passes.py:326: NumbaPerformanceWarning: \n",
      "The keyword argument 'parallel=True' was specified but no transformation for parallel execution was possible.\n",
      "\n",
      "To find out why, try turning on parallel diagnostics, see https://numba.pydata.org/numba-doc/latest/user/parallel.html#diagnostics for help.\n",
      "\n",
      "File \"<ipython-input-16-71654a2836c4>\", line 2:\n",
      "@jit(parallel=True)\n",
      "def calc_mean3(a):\n",
      "^\n",
      "\n",
      "  warnings.warn(errors.NumbaPerformanceWarning(msg,\n"
     ]
    },
    {
     "name": "stdout",
     "output_type": "stream",
     "text": [
      "93.4 ms ± 959 µs per loop (mean ± std. dev. of 7 runs, 10 loops each)\n"
     ]
    }
   ],
   "source": [
    "%%timeit\n",
    "calc_mean3(values)"
   ]
  },
  {
   "cell_type": "code",
   "execution_count": 18,
   "id": "6884dbad",
   "metadata": {},
   "outputs": [
    {
     "name": "stdout",
     "output_type": "stream",
     "text": [
      " \n",
      "================================================================================\n",
      " Parallel Accelerator Optimizing:  Function calc_mean3, <ipython-\n",
      "input-16-71654a2836c4> (1)  \n",
      "================================================================================\n",
      "No source available\n",
      "--------------------------------- Fusing loops ---------------------------------\n",
      "Attempting fusion of parallel loops (combines loops with similar properties)...\n",
      "----------------------------- Before Optimisation ------------------------------\n",
      "--------------------------------------------------------------------------------\n",
      "------------------------------ After Optimisation ------------------------------\n",
      "Parallel structure is already optimal.\n",
      "--------------------------------------------------------------------------------\n",
      "--------------------------------------------------------------------------------\n",
      " \n",
      "---------------------------Loop invariant code motion---------------------------\n",
      "Allocation hoisting:\n",
      "No allocation hoisting found\n",
      "\n",
      "Instruction hoisting:\n",
      "No instruction hoisting found\n",
      "--------------------------------------------------------------------------------\n"
     ]
    }
   ],
   "source": [
    "calc_mean3.parallel_diagnostics(level=4)"
   ]
  },
  {
   "cell_type": "code",
   "execution_count": 19,
   "id": "28263983",
   "metadata": {},
   "outputs": [],
   "source": [
    "# rapids-0.18 env"
   ]
  },
  {
   "cell_type": "code",
   "execution_count": 20,
   "id": "c2fccc91",
   "metadata": {},
   "outputs": [],
   "source": [
    "import cupy as cp"
   ]
  },
  {
   "cell_type": "code",
   "execution_count": 23,
   "id": "dacd3a87",
   "metadata": {},
   "outputs": [],
   "source": [
    "cp_values = cp.array(values)"
   ]
  },
  {
   "cell_type": "code",
   "execution_count": 24,
   "id": "54807c06",
   "metadata": {},
   "outputs": [
    {
     "data": {
      "text/plain": [
       "array([0.22731521, 0.59162628, 0.21776349, ..., 0.73022621, 0.31880917,\n",
       "       0.44050632])"
      ]
     },
     "execution_count": 24,
     "metadata": {},
     "output_type": "execute_result"
    }
   ],
   "source": [
    "cp_values"
   ]
  },
  {
   "cell_type": "code",
   "execution_count": 26,
   "id": "06c8bc39",
   "metadata": {},
   "outputs": [
    {
     "name": "stdout",
     "output_type": "stream",
     "text": [
      "57.9 ms ± 46 µs per loop (mean ± std. dev. of 7 runs, 10 loops each)\n"
     ]
    }
   ],
   "source": [
    "%%timeit\n",
    "cp.mean(cp_values)"
   ]
  },
  {
   "cell_type": "code",
   "execution_count": 28,
   "id": "e70da41c",
   "metadata": {},
   "outputs": [],
   "source": [
    "cu_xs = cudf.Series(cp_values)"
   ]
  },
  {
   "cell_type": "code",
   "execution_count": 30,
   "id": "35900d6b",
   "metadata": {},
   "outputs": [
    {
     "name": "stdout",
     "output_type": "stream",
     "text": [
      "5.6 ms ± 10 µs per loop (mean ± std. dev. of 7 runs, 100 loops each)\n"
     ]
    }
   ],
   "source": [
    "%%timeit\n",
    "cu_xs.mean()"
   ]
  },
  {
   "cell_type": "code",
   "execution_count": null,
   "id": "04dea786",
   "metadata": {},
   "outputs": [],
   "source": []
  }
 ],
 "metadata": {
  "kernelspec": {
   "display_name": "Python 3",
   "language": "python",
   "name": "python3"
  },
  "language_info": {
   "codemirror_mode": {
    "name": "ipython",
    "version": 3
   },
   "file_extension": ".py",
   "mimetype": "text/x-python",
   "name": "python",
   "nbconvert_exporter": "python",
   "pygments_lexer": "ipython3",
   "version": "3.8.8"
  }
 },
 "nbformat": 4,
 "nbformat_minor": 5
}
