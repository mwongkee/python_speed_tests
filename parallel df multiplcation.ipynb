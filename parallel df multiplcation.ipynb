{
 "cells": [
  {
   "cell_type": "code",
   "execution_count": 297,
   "id": "c4203672",
   "metadata": {},
   "outputs": [],
   "source": [
    "import pandas as pd\n",
    "import numpy as np"
   ]
  },
  {
   "cell_type": "code",
   "execution_count": 298,
   "id": "db247c53",
   "metadata": {},
   "outputs": [],
   "source": [
    "def generate_df(start_date, end_date, N, n_cols):\n",
    "    dates = pd.date_range(start=start_date, end=end_date, freq='B')\n",
    "    n_values = [x + 1 for x in range(N)]\n",
    "    index = pd.MultiIndex.from_product([dates, n_values], names=['date', 'x'])\n",
    "    columns = [f'f{i+1}' for i in range(n_cols)]\n",
    "    df = pd.DataFrame(index=index, data=np.random.random((len(index), n_cols)), columns=columns)\n",
    "    return df"
   ]
  },
  {
   "cell_type": "code",
   "execution_count": 336,
   "id": "c153e1ab",
   "metadata": {},
   "outputs": [],
   "source": [
    "x = generate_df('2000-01-01', '2005-01-05', 1000, 5)\n",
    "y = generate_df('2000-01-01', '2005-01-05', 1000, 5)"
   ]
  },
  {
   "cell_type": "code",
   "execution_count": 337,
   "id": "8738ce29",
   "metadata": {},
   "outputs": [],
   "source": [
    "x_groups = x.groupby(level='date').groups\n",
    "y_groups = y.groupby(level='date').groups"
   ]
  },
  {
   "cell_type": "code",
   "execution_count": 338,
   "id": "e6346a32",
   "metadata": {},
   "outputs": [
    {
     "data": {
      "text/plain": [
       "array(['2000-01-05T00:00:00.000000000', '2000-01-05T00:00:00.000000000',\n",
       "       '2000-01-05T00:00:00.000000000', '2000-01-05T00:00:00.000000000',\n",
       "       '2000-01-05T00:00:00.000000000', '2000-01-05T00:00:00.000000000',\n",
       "       '2000-01-05T00:00:00.000000000', '2000-01-05T00:00:00.000000000',\n",
       "       '2000-01-05T00:00:00.000000000', '2000-01-05T00:00:00.000000000'],\n",
       "      dtype='datetime64[ns]')"
      ]
     },
     "execution_count": 338,
     "metadata": {},
     "output_type": "execute_result"
    }
   ],
   "source": [
    "a.get_level_values(0).values"
   ]
  },
  {
   "cell_type": "code",
   "execution_count": 339,
   "id": "1721a6df",
   "metadata": {},
   "outputs": [],
   "source": [
    "def dotself(xy):\n",
    "    x, y = xy\n",
    "    res = x.dot(y.T)\n",
    "    res.columns = res.columns.droplevel(0)\n",
    "    return res"
   ]
  },
  {
   "cell_type": "code",
   "execution_count": 340,
   "id": "e7033ae0",
   "metadata": {},
   "outputs": [],
   "source": [
    "def dot_xy(x, y):\n",
    "    res = x.dot(y.T)\n",
    "    res.columns = res.columns.droplevel(0)\n",
    "    return res"
   ]
  },
  {
   "cell_type": "code",
   "execution_count": null,
   "id": "7af345eb",
   "metadata": {},
   "outputs": [],
   "source": [
    "pair_groups = [(x.loc[x_groups[d]], y.loc[y_groups[d]]) for d in x_groups.keys() & y_groups.keys()]"
   ]
  },
  {
   "cell_type": "code",
   "execution_count": null,
   "id": "b86f14d1",
   "metadata": {},
   "outputs": [],
   "source": [
    "pd.concat(map(dotself, pair_groups))"
   ]
  },
  {
   "cell_type": "code",
   "execution_count": null,
   "id": "da4d78be",
   "metadata": {},
   "outputs": [],
   "source": [
    "from numba import jit\n",
    "\n",
    "@jit(parallel=True)\n",
    "def dotnp(xy):\n",
    "    x, y, x_dates, x_securities, y_securities = xy\n",
    "    res = np.dot(x, y.T)\n",
    "    return res, x_dates, x_securities, y_securities"
   ]
  },
  {
   "cell_type": "code",
   "execution_count": null,
   "id": "98ac77eb",
   "metadata": {},
   "outputs": [],
   "source": [
    "def np_to_pd(values, x_dates, x_securities, y_securities):\n",
    "    return pd.DataFrame(data=values, index=zip(x_dates, x_securities), columns=y_securities)"
   ]
  },
  {
   "cell_type": "code",
   "execution_count": null,
   "id": "5195f01c",
   "metadata": {},
   "outputs": [],
   "source": [
    "def np_to_pd2(x):\n",
    "    values, x_dates, x_securities, y_securities = x\n",
    "    return pd.DataFrame(data=values, index=pd.MultiIndex.from_arrays([x_dates, x_securities]), columns=y_securities)"
   ]
  },
  {
   "cell_type": "code",
   "execution_count": null,
   "id": "9c90c0ac",
   "metadata": {},
   "outputs": [],
   "source": [
    "%%timeit\n",
    "x_groups = x.groupby(level='date').groups\n",
    "y_groups = y.groupby(level='date').groups\n",
    "pair_groups = [(x.loc[x_groups[d]], y.loc[y_groups[d]]) for d in x_groups.keys() & y_groups.keys()]\n",
    "pd.concat(map(dotself, pair_groups))"
   ]
  },
  {
   "cell_type": "code",
   "execution_count": 310,
   "id": "b60ca22a",
   "metadata": {},
   "outputs": [],
   "source": [
    "import dask"
   ]
  },
  {
   "cell_type": "code",
   "execution_count": 311,
   "id": "29956c36",
   "metadata": {},
   "outputs": [
    {
     "name": "stderr",
     "output_type": "stream",
     "text": [
      "/home/mwongkee/miniconda3/envs/rapids-0.18/lib/python3.8/site-packages/distributed/node.py:151: UserWarning: Port 8787 is already in use.\n",
      "Perhaps you already have a cluster running?\n",
      "Hosting the HTTP server on port 38435 instead\n",
      "  warnings.warn(\n"
     ]
    },
    {
     "data": {
      "text/html": [
       "<table style=\"border: 2px solid white;\">\n",
       "<tr>\n",
       "<td style=\"vertical-align: top; border: 0px solid white\">\n",
       "<h3 style=\"text-align: left;\">Client</h3>\n",
       "<ul style=\"text-align: left; list-style: none; margin: 0; padding: 0;\">\n",
       "  <li><b>Scheduler: </b>tcp://127.0.0.1:39331</li>\n",
       "  <li><b>Dashboard: </b><a href='http://127.0.0.1:38435/status' target='_blank'>http://127.0.0.1:38435/status</a></li>\n",
       "</ul>\n",
       "</td>\n",
       "<td style=\"vertical-align: top; border: 0px solid white\">\n",
       "<h3 style=\"text-align: left;\">Cluster</h3>\n",
       "<ul style=\"text-align: left; list-style:none; margin: 0; padding: 0;\">\n",
       "  <li><b>Workers: </b>4</li>\n",
       "  <li><b>Cores: </b>16</li>\n",
       "  <li><b>Memory: </b>15.57 GiB</li>\n",
       "</ul>\n",
       "</td>\n",
       "</tr>\n",
       "</table>"
      ],
      "text/plain": [
       "<Client: 'tcp://127.0.0.1:39331' processes=4 threads=16, memory=15.57 GiB>"
      ]
     },
     "execution_count": 311,
     "metadata": {},
     "output_type": "execute_result"
    }
   ],
   "source": [
    "from dask.distributed import Client, progress\n",
    "client = Client(threads_per_worker=4, n_workers=4)\n",
    "client"
   ]
  },
  {
   "cell_type": "code",
   "execution_count": 312,
   "id": "3bc31021",
   "metadata": {},
   "outputs": [
    {
     "name": "stdout",
     "output_type": "stream",
     "text": [
      "10.4 s ± 1.25 s per loop (mean ± std. dev. of 7 runs, 1 loop each)\n"
     ]
    }
   ],
   "source": [
    "%%timeit\n",
    "x_groups = x.groupby(level='date').groups\n",
    "y_groups = y.groupby(level='date').groups\n",
    "pair_groups_np = [(x.loc[x_groups[d]].values, y.loc[y_groups[d]].values, x.loc[x_groups[d]].index.get_level_values(0).values, x.loc[x_groups[d]].index.get_level_values(1).values, y.loc[x_groups[d]].index.get_level_values(1).values) for d in x_groups.keys() & y_groups.keys()]\n",
    "\n",
    "futures = client.map(dotnp, pair_groups_np)\n",
    "futures2 = client.map(np_to_pd2, futures)\n",
    "results = client.gather(futures2)\n",
    "pd.concat(results)"
   ]
  },
  {
   "cell_type": "code",
   "execution_count": 313,
   "id": "a6303f25",
   "metadata": {},
   "outputs": [
    {
     "name": "stdout",
     "output_type": "stream",
     "text": [
      "3.75 s ± 124 ms per loop (mean ± std. dev. of 7 runs, 1 loop each)\n"
     ]
    }
   ],
   "source": [
    "%%timeit\n",
    "import pandas as pd\n",
    "from joblib import Parallel, delayed\n",
    "\n",
    "all_keys = x_groups.keys() & y_groups.keys()\n",
    "\n",
    "pd.concat(Parallel(n_jobs=-1)(delayed(dot_xy)(x.loc[x_groups[k]], y.loc[y_groups[k]]) for k in all_keys))"
   ]
  },
  {
   "cell_type": "code",
   "execution_count": 322,
   "id": "b3b5e800",
   "metadata": {},
   "outputs": [],
   "source": [
    "import cudf\n",
    "import cupy as cp"
   ]
  },
  {
   "cell_type": "code",
   "execution_count": 323,
   "id": "5fd65ad7",
   "metadata": {},
   "outputs": [],
   "source": [
    "x_cudf = cudf.DataFrame(x)\n",
    "y_cudf = cudf.DataFrame(y)"
   ]
  },
  {
   "cell_type": "code",
   "execution_count": 335,
   "id": "75d8ad3b",
   "metadata": {},
   "outputs": [
    {
     "name": "stdout",
     "output_type": "stream",
     "text": [
      "26.6 s ± 146 ms per loop (mean ± std. dev. of 7 runs, 1 loop each)\n"
     ]
    }
   ],
   "source": [
    "%%timeit\n",
    "x_groups = x_cudf.groupby(level='date').groups\n",
    "y_groups = y_cudf.groupby(level='date').groups\n",
    "pair_groups = [(x_cudf.loc[x_groups[d]], y_cudf.loc[y_groups[d]]) for d in x_groups.keys() & y_groups.keys()]\n",
    "\n",
    "def dot_cudf(xy):\n",
    "    x, y = xy\n",
    "    return cp.dot(x.values, y.T.values)\n",
    "\n",
    "res = [dot_cudf(pair_group) for pair_group in pair_groups]"
   ]
  },
  {
   "cell_type": "code",
   "execution_count": 326,
   "id": "08a0fbc7",
   "metadata": {},
   "outputs": [
    {
     "name": "stdout",
     "output_type": "stream",
     "text": [
      "Wed Apr 21 22:19:03 2021       \n",
      "+-----------------------------------------------------------------------------+\n",
      "| NVIDIA-SMI 460.56       Driver Version: 460.56       CUDA Version: 11.2     |\n",
      "|-------------------------------+----------------------+----------------------+\n",
      "| GPU  Name        Persistence-M| Bus-Id        Disp.A | Volatile Uncorr. ECC |\n",
      "| Fan  Temp  Perf  Pwr:Usage/Cap|         Memory-Usage | GPU-Util  Compute M. |\n",
      "|                               |                      |               MIG M. |\n",
      "|===============================+======================+======================|\n",
      "|   0  GeForce RTX 3060    Off  | 00000000:01:00.0 Off |                  N/A |\n",
      "|  0%   39C    P2    36W / 170W |   1006MiB / 12045MiB |      1%      Default |\n",
      "|                               |                      |                  N/A |\n",
      "+-------------------------------+----------------------+----------------------+\n",
      "                                                                               \n",
      "+-----------------------------------------------------------------------------+\n",
      "| Processes:                                                                  |\n",
      "|  GPU   GI   CI        PID   Type   Process name                  GPU Memory |\n",
      "|        ID   ID                                                   Usage      |\n",
      "|=============================================================================|\n",
      "|    0   N/A  N/A      1038      G   /usr/lib/xorg/Xorg                 59MiB |\n",
      "|    0   N/A  N/A      1606      G   /usr/lib/xorg/Xorg                150MiB |\n",
      "|    0   N/A  N/A      1740      G   /usr/bin/gnome-shell               12MiB |\n",
      "|    0   N/A  N/A      2299      G   /usr/lib/firefox/firefox            2MiB |\n",
      "|    0   N/A  N/A      3273      G   /usr/lib/firefox/firefox            2MiB |\n",
      "|    0   N/A  N/A      3319      G   /usr/lib/firefox/firefox            2MiB |\n",
      "|    0   N/A  N/A      5857      C   ...vs/rapids-0.18/bin/python      763MiB |\n",
      "+-----------------------------------------------------------------------------+\n"
     ]
    }
   ],
   "source": [
    "!nvidia-smi"
   ]
  },
  {
   "cell_type": "code",
   "execution_count": null,
   "id": "d8a92da6",
   "metadata": {},
   "outputs": [],
   "source": []
  }
 ],
 "metadata": {
  "kernelspec": {
   "display_name": "Python 3",
   "language": "python",
   "name": "python3"
  },
  "language_info": {
   "codemirror_mode": {
    "name": "ipython",
    "version": 3
   },
   "file_extension": ".py",
   "mimetype": "text/x-python",
   "name": "python",
   "nbconvert_exporter": "python",
   "pygments_lexer": "ipython3",
   "version": "3.8.8"
  }
 },
 "nbformat": 4,
 "nbformat_minor": 5
}
